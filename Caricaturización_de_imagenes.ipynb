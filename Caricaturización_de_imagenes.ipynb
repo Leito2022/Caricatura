{
  "nbformat": 4,
  "nbformat_minor": 0,
  "metadata": {
    "colab": {
      "name": "Caricaturización_de_imagenes.ipynb",
      "provenance": [],
      "collapsed_sections": [],
      "authorship_tag": "ABX9TyNblhBGA9z0Gn9QO4apModc",
      "include_colab_link": true
    },
    "kernelspec": {
      "name": "python3",
      "display_name": "Python 3"
    },
    "language_info": {
      "name": "python"
    }
  },
  "cells": [
    {
      "cell_type": "markdown",
      "metadata": {
        "id": "view-in-github",
        "colab_type": "text"
      },
      "source": [
        "<a href=\"https://colab.research.google.com/github/Leito2022/Caricatura/blob/main/Caricaturizaci%C3%B3n_de_imagenes.ipynb\" target=\"_parent\"><img src=\"https://colab.research.google.com/assets/colab-badge.svg\" alt=\"Open In Colab\"/></a>"
      ]
    },
    {
      "cell_type": "code",
      "execution_count": null,
      "metadata": {
        "id": "sUW8akMnrJP_"
      },
      "outputs": [],
      "source": [
        "### CARICATURIZACIÖN DE IMAGENES ###\n",
        "#Por: Rodríguez Jorge Leonardo. Data Scientist\n",
        "#Python, Cv, Tinker, Numpy\n",
        "\n",
        "#El presente proyecto tiene por finalidad crear una aplicación capaz de receptar imagenes,\n",
        "#procesarlas y devolver una versión caricaturizada de la misma. Se utilizará la librería\n",
        "#OpenCV que una librería que posee aplicaciones para la captura y reconocimiento de \n",
        "#imagenes y videos.\n",
        "\n"
      ]
    },
    {
      "cell_type": "code",
      "source": [
        "#Importamos librerias\n",
        "import numpy as np #Para guardar imágenes\n",
        "import cv2 #para procesar imágenes\n",
        "#import easygui Solo cuando se use el código en IDE\n",
        "import imageio #Para leer imágenes guardadas\n",
        "import sys  \n",
        "import matplotlib.pyplot as plt\n",
        "import os\n",
        "import tkinter as tk\n",
        "from tkinter import filedialog\n",
        "from tkinter import *\n",
        "from PIL import ImageTk, Image"
      ],
      "metadata": {
        "id": "fHyy_A8rslPC"
      },
      "execution_count": null,
      "outputs": []
    },
    {
      "cell_type": "code",
      "source": [
        "#Creamos una función para subir archivos\n",
        "from google.colab import files\n",
        "def subida():\n",
        "  Imagensubida = files.upload()\n",
        "  Caricaturizar(Imagensubida)\n",
        "\n",
        "  "
      ],
      "metadata": {
        "id": "x_zJTxjd7IyR"
      },
      "execution_count": null,
      "outputs": []
    },
    {
      "cell_type": "code",
      "source": [
        "#Para que el programa pueda leer las imagenes debe transformarlas en una serie de\n",
        "#números, utilizaremos a numpy para crear arrays.\n",
        "\n",
        "#Leer la imagen\n",
        "\n",
        "def Caricaturizar(Imagensubida):\n",
        "  imagen_original = cv2.imread(Caricaturizar)\n",
        "  imagen_original = cv2.cvtColor(imagen_original, cv2.COLOR_BGR2RGB)\n",
        "\n",
        "#Confirmar la imagen elegida\n",
        "\n",
        "  if imagen_original is None:\n",
        "    print(\"No se pudo encontrar el archivo, seleccione otro archivo\")\n",
        "    sys.exit()\n",
        "\n",
        "#Se modifica el tamaño de las imagenes de salida para mantener una misma escala\n",
        "\n",
        "  cambiar_tamaño_1 = cv2.resize(imagen_original, (960,540))\n",
        "\n",
        "#Una vez ya tenemos guardada la imagen, se empieza a generar el cartoon transformando\n",
        "#la imagen a una escala de grises\n",
        "\n",
        "  escala_grises = cv2.cvtColor(imagen_original, cv2.COLOR_BGR2GRAY)\n",
        "  cambiar_tamaño_2 = cv2.resize(escala_grises, (960,540))\n",
        "  #plt.imshow(cambiar_tamaño_2, cmap = \"gray\")\n",
        "\n",
        "#Luego de tenerlo en escala de grises difuminamos la imagen.\n",
        "\n",
        "  difuminar_escala_grises = cv2.medianBlur(escala_grises, 5)\n",
        "  cambiar_tamaño_3 = cv2.resize(difuminar_escala_grises, (960,540))\n",
        "\n",
        "#Resaltamos los bordes\n",
        "  bordes = cv2.adaptativeThreshold(difuminar_escala_grises,255,\n",
        "                                   cv2.ADAPTIVE_THRESH_MEAN_C,\n",
        "                                   cv2.THRESH_BINARY, 9,9)                                   \n",
        "  cambiar_tamaño_4 = cv2.resize(bordes, (960,540))\n",
        "\n",
        "#Creamos una capa de colores \n",
        "\n",
        "  color = cv2.bilateralFilter(imagen_original, 9, 300, 300)\n",
        "  cambiar_tamaño_5 = cv2.resize(color,(960,540))\n",
        "\n",
        "#Unimos los bordes con los colores para crear nuestra caricatura\n",
        "\n",
        "  imagen_cartoon = cv2.bitwise_and(color, color, mask = bordes)\n",
        "  cambiar_tamaño_6 = cv2.resize(imagen_cartoon, (900,540))\n",
        "\n",
        "#Ploteamos y unimos todas las imagenes creadas cambiadas de tamaño\n",
        "\n",
        "  imagenes = [cambiar_tamaño_1,cambiar_tamaño_2,cambiar_tamaño_3,cambiar_tamaño_4,\n",
        "              cambiar_tamaño_5.cambiar_tamaño_6]\n",
        "  fig, axes = plt.subplots(3,2, figzise = (8,8), subplot_kw = {\"xticks\": [], \"yticks\": []},\n",
        "                           gridspec_kw = dict(hspace = 0.1, wspace = 0.1))\n",
        "  for i, ax in ennumerar (axes.flat):\n",
        "    ax.imshow(imagenes[i], cmap =\"gray\")\n",
        "\n",
        "  plt.show()\n",
        "  "
      ],
      "metadata": {
        "id": "r6VKVqLtAgov"
      },
      "execution_count": null,
      "outputs": []
    },
    {
      "cell_type": "code",
      "source": [
        "#A continuación se crea una función de guardado para la nueva imagen creada, estará \n",
        "#vinculada, luego, a un botón.\n",
        "\n",
        "def guardar(cambiar_tamaño_6, Imagensubida):\n",
        "  nuevo_nombre = \"caricatura\"\n",
        "  direccion_1 = os.path.dirname(Imagensubida)\n",
        "  extension = os.path.splitext(Imagensubida)[1]\n",
        "  direccion = os.path.join(direccion_1, nuevo_nombre + extension)\n",
        "  cv2.imwrite(direccion, cv2.cvtColor(cambiar_tamaño_6, cv2.COLOR_RGB2BGR))\n",
        "  I = \"Imagen guardada con nombre: \" + nuevo_nombre, \"en\", direccion\n",
        "  tk.messagebox.showinfo(title = None, message = I)\n",
        "  #Hacemos la interfaz de la aplicación.\n",
        "\n",
        "  top = tk.Tk()\n",
        "  top.geometry(400)\n",
        "  top.title(\"Caricaturiza tu imagen!\")\n",
        "  top.configuration(background = \"white\")\n",
        "  label = Label(top,background = \"#CDCDCD\", font = (\"calibri\", 20, \"bold\"))\n",
        "\n",
        "#\n",
        "\n",
        "  upload = Button(top, text = \"Caricaturizar una imagen\", command = upload, \n",
        "               padx = 10, pady = 5)\n",
        "  upload.configure(background =\"#364156\", foreground = \"white\", font = (\"calibri\", 20, \"bold\"))\n",
        "\n",
        "  upload.pack(side = TOP, pady=50)\n",
        "\n",
        "#\n",
        "  guardar_boton_1= Button(top, text = \"Guardar la imagen\", command = lambda : save(Imagensubida,\n",
        "                                                                                  cambiar_tamaño_6),\n",
        "                         padx= 30, pady= 5)\n",
        "  guardar_boton_1.configure(background = \"364156\", foreground = \"white\", font = (\"calibri\", 20, \"bold\"))\n",
        "\n",
        "  guardar_boton_1.pack(side = TOP, pady = 50)\n",
        "\n",
        "  top.mainloop()"
      ],
      "metadata": {
        "id": "sM74t34GDZ3-"
      },
      "execution_count": null,
      "outputs": []
    },
    {
      "cell_type": "code",
      "source": [
        ""
      ],
      "metadata": {
        "id": "wqMwmeBekLW9"
      },
      "execution_count": null,
      "outputs": []
    }
  ]
}